{
 "cells": [
  {
   "cell_type": "code",
   "execution_count": 2,
   "metadata": {
    "vscode": {
     "languageId": "plaintext"
    }
   },
   "outputs": [],
   "source": [
    "#2d的直方圖練習\n",
    "import numpy as np\n",
    "import matplotlib.pyplot as plt\n",
    "\n",
    "n = 10000\n",
    "x = np.random.standard_normal(n)                                    #產生1萬個,均值0，標準差1的隨機數\n",
    "y = 2.0 + 3.0 * x + 4.0 * np.random.standard_normal(n)              #產生1萬個y隨機數\n",
    "\n"
   ]
  },
  {
   "cell_type": "code",
   "execution_count": null,
   "metadata": {},
   "outputs": [],
   "source": [
    "xedges, yedges = np.linspace(-4, 4, 42), np.linspace(-25, 25, 42)   \n",
    "\n",
    "# np.histogram2d(x, y, (xedges, yedges)) 產生2d直方圖\n",
    "# x,y 一維中的數據，上面x,y各有一萬個\n",
    "# bin = (xedges, yedges) 指定直方圖的邊界\n",
    "hist, xedges, yedges = np.histogram2d(x, y, (xedges, yedges))"
   ]
  }
 ],
 "metadata": {
  "kernelspec": {
   "display_name": "Python 3 (ipykernel)",
   "language": "python",
   "name": "python3"
  },
  "language_info": {
   "codemirror_mode": {
    "name": "ipython",
    "version": 3
   },
   "file_extension": ".py",
   "mimetype": "text/x-python",
   "name": "python",
   "nbconvert_exporter": "python",
   "pygments_lexer": "ipython3",
   "version": "3.11.3"
  }
 },
 "nbformat": 4,
 "nbformat_minor": 2
}
